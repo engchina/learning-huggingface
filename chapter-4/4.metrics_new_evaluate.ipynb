{
 "cells": [
  {
   "cell_type": "code",
   "execution_count": 1,
   "id": "a2b862ab",
   "metadata": {
    "ExecuteTime": {
     "end_time": "2023-05-12T12:11:09.400972200Z",
     "start_time": "2023-05-12T12:11:08.062387800Z"
    }
   },
   "outputs": [
    {
     "name": "stdout",
     "output_type": "stream",
     "text": [
      "160 ['lvwerra/test', 'precision', 'code_eval', 'roc_auc', 'cuad']\n"
     ]
    }
   ],
   "source": [
    "# https://huggingface.co/docs/evaluate/installation\n",
    "# pip install scipy scikit-learn\n",
    "#第4章/列出可用的评价指标\n",
    "\n",
    "#from datasets import list_metrics\n",
    "#metrics_list = list_metrics()\n",
    "#len(metrics_list), metrics_list[:5]\n",
    "from evaluate import list_evaluation_modules\n",
    "metrics_list = list_evaluation_modules()\n",
    "print(len(metrics_list), metrics_list[:5])"
   ]
  },
  {
   "cell_type": "code",
   "execution_count": 4,
   "id": "d699a36e",
   "metadata": {
    "ExecuteTime": {
     "end_time": "2023-05-12T12:12:23.736877400Z",
     "start_time": "2023-05-12T12:12:21.984415500Z"
    }
   },
   "outputs": [
    {
     "name": "stdout",
     "output_type": "stream",
     "text": [
      "\n",
      "Compute GLUE evaluation metric associated to each GLUE dataset.\n",
      "Args:\n",
      "    predictions: list of predictions to score.\n",
      "        Each translation should be tokenized into a list of tokens.\n",
      "    references: list of lists of references for each translation.\n",
      "        Each reference should be tokenized into a list of tokens.\n",
      "Returns: depending on the GLUE subset, one or several of:\n",
      "    \"accuracy\": Accuracy\n",
      "    \"f1\": F1 score\n",
      "    \"pearson\": Pearson Correlation\n",
      "    \"spearmanr\": Spearman Correlation\n",
      "    \"matthews_correlation\": Matthew Correlation\n",
      "Examples:\n",
      "\n",
      "    >>> glue_metric = evaluate.load('glue', 'sst2')  # 'sst2' or any of [\"mnli\", \"mnli_mismatched\", \"mnli_matched\", \"qnli\", \"rte\", \"wnli\", \"hans\"]\n",
      "    >>> references = [0, 1]\n",
      "    >>> predictions = [0, 1]\n",
      "    >>> results = glue_metric.compute(predictions=predictions, references=references)\n",
      "    >>> print(results)\n",
      "    {'accuracy': 1.0}\n",
      "\n",
      "    >>> glue_metric = evaluate.load('glue', 'mrpc')  # 'mrpc' or 'qqp'\n",
      "    >>> references = [0, 1]\n",
      "    >>> predictions = [0, 1]\n",
      "    >>> results = glue_metric.compute(predictions=predictions, references=references)\n",
      "    >>> print(results)\n",
      "    {'accuracy': 1.0, 'f1': 1.0}\n",
      "\n",
      "    >>> glue_metric = evaluate.load('glue', 'stsb')\n",
      "    >>> references = [0., 1., 2., 3., 4., 5.]\n",
      "    >>> predictions = [0., 1., 2., 3., 4., 5.]\n",
      "    >>> results = glue_metric.compute(predictions=predictions, references=references)\n",
      "    >>> print({\"pearson\": round(results[\"pearson\"], 2), \"spearmanr\": round(results[\"spearmanr\"], 2)})\n",
      "    {'pearson': 1.0, 'spearmanr': 1.0}\n",
      "\n",
      "    >>> glue_metric = evaluate.load('glue', 'cola')\n",
      "    >>> references = [0, 1]\n",
      "    >>> predictions = [0, 1]\n",
      "    >>> results = glue_metric.compute(predictions=predictions, references=references)\n",
      "    >>> print(results)\n",
      "    {'matthews_correlation': 1.0}\n",
      "\n"
     ]
    }
   ],
   "source": [
    "#第4章/加载一个评价指标\n",
    "# from datasets import load_metric\n",
    "# metric = load_metric(path='glue', config_name='mrpc')\n",
    "# print(metric.inputs_description)\n",
    "\n",
    "from evaluate import load\n",
    "metric = load(path='glue', config_name='mrpc')\n",
    "print(metric.inputs_description)"
   ]
  },
  {
   "cell_type": "code",
   "execution_count": 5,
   "id": "5711e3ea",
   "metadata": {
    "ExecuteTime": {
     "end_time": "2023-05-12T12:13:43.844045600Z",
     "start_time": "2023-05-12T12:13:43.818143Z"
    }
   },
   "outputs": [
    {
     "data": {
      "text/plain": [
       "{'accuracy': 0.6666666666666666, 'f1': 0.6666666666666666}"
      ]
     },
     "execution_count": 5,
     "metadata": {},
     "output_type": "execute_result"
    }
   ],
   "source": [
    "#第4章/计算一个评价指标\n",
    "predictions = [0, 1, 0]\n",
    "references = [0, 1, 1]\n",
    "\n",
    "metric.compute(predictions=predictions, references=references)"
   ]
  },
  {
   "cell_type": "code",
   "execution_count": 6,
   "id": "8c077a2a",
   "metadata": {
    "ExecuteTime": {
     "end_time": "2023-05-12T12:28:59.697161800Z",
     "start_time": "2023-05-12T12:28:58.046586100Z"
    }
   },
   "outputs": [
    {
     "name": "stdout",
     "output_type": "stream",
     "text": [
      "{'exact_match': 1.0}\n"
     ]
    }
   ],
   "source": [
    "import evaluate\n",
    "print(evaluate.load('exact_match').compute(references=['hello'], predictions=['hello']))"
   ]
  },
  {
   "cell_type": "code",
   "execution_count": null,
   "id": "7a16825d",
   "metadata": {},
   "outputs": [],
   "source": []
  }
 ],
 "metadata": {
  "kernelspec": {
   "display_name": "Python 3 (ipykernel)",
   "language": "python",
   "name": "python3"
  },
  "language_info": {
   "codemirror_mode": {
    "name": "ipython",
    "version": 3
   },
   "file_extension": ".py",
   "mimetype": "text/x-python",
   "name": "python",
   "nbconvert_exporter": "python",
   "pygments_lexer": "ipython3",
   "version": "3.10.11"
  }
 },
 "nbformat": 4,
 "nbformat_minor": 5
}
